{
 "cells": [
  {
   "cell_type": "code",
   "execution_count": 1,
   "metadata": {},
   "outputs": [
    {
     "name": "stdout",
     "output_type": "stream",
     "text": [
      "(480, 640)\n",
      "(array([ 0,  3,  4,  5, 40], dtype=int32), array([174146,  56911,  71638,   1709,   2796]))\n"
     ]
    }
   ],
   "source": [
    "import numpy as np\n",
    "\n",
    "semantic_mask = np.load('/data2/jhuangce/torch-ngp/instance_nerf_data/pred_semantic/3dfront_0004_00/0001.npy')\n",
    "print(semantic_mask.shape)\n",
    "print(np.unique(semantic_mask, return_counts=True))\n"
   ]
  },
  {
   "attachments": {},
   "cell_type": "markdown",
   "metadata": {},
   "source": [
    "### Map instance id to semantic id\n"
   ]
  },
  {
   "cell_type": "code",
   "execution_count": null,
   "metadata": {},
   "outputs": [],
   "source": [
    "import numpy as np\n",
    "import os\n",
    "import glob\n",
    "import json\n",
    "\n",
    "data_root = '/data2/jhuangce/torch-ngp/instance_nerf_data/pred_semantic'\n",
    "scene_list = os.listdir(data_root)\n",
    "for scene_name in scene_list:\n",
    "    frame_json_list = sorted(glob.glob(os.path.join(data_root, scene_name, '*.npy')))\n",
    "\n",
    "    for frame_json_path in frame_json_list:\n",
    "        with open(frame_json_path, 'r') as f:\n",
    "            obj_list = json.load(f)\n",
    "# not finished    \n",
    "\n"
   ]
  }
 ],
 "metadata": {
  "kernelspec": {
   "display_name": "base",
   "language": "python",
   "name": "python3"
  },
  "language_info": {
   "codemirror_mode": {
    "name": "ipython",
    "version": 3
   },
   "file_extension": ".py",
   "mimetype": "text/x-python",
   "name": "python",
   "nbconvert_exporter": "python",
   "pygments_lexer": "ipython3",
   "version": "3.9.12"
  },
  "orig_nbformat": 4,
  "vscode": {
   "interpreter": {
    "hash": "c25b210a7e422565fa21159249b370c828180fec1b94157b4ce350e690a61b6d"
   }
  }
 },
 "nbformat": 4,
 "nbformat_minor": 2
}
